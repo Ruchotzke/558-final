{
 "cells": [
  {
   "cell_type": "code",
   "execution_count": null,
   "id": "initial_id",
   "metadata": {
    "collapsed": true
   },
   "outputs": [],
   "source": [
    "#Imports\n",
    "import matplotlib.pyplot as plt\n",
    "import numpy as np"
   ]
  },
  {
   "cell_type": "code",
   "execution_count": null,
   "outputs": [],
   "source": [
    "# Bar graphs for static results\n",
    "categories = ['FIFO', 'Round Robin', 'Fair Queue']\n",
    "fifo = np.array([25000,24980,25000])\n",
    "rr = np.array([23600,4780,46800])\n",
    "fq = np.array([25000,24980,25000])\n",
    "\n",
    "# Figure\n",
    "fig, axs = plt.subplots(1,1)\n",
    "\n",
    "# Bar positions\n",
    "pos = np.arange(len(categories))\n",
    "width = 0.25\n",
    "\n",
    "# Plot\n",
    "plt.bar(pos - width, fifo, width=width, label='fifo')\n",
    "plt.bar(pos, rr, width=width, label='rr')\n",
    "plt.bar(pos + width, fq, width=width, label='fq')"
   ],
   "metadata": {
    "collapsed": false
   },
   "id": "484d203f4fec8eb9"
  }
 ],
 "metadata": {
  "kernelspec": {
   "display_name": "Python 3",
   "language": "python",
   "name": "python3"
  },
  "language_info": {
   "codemirror_mode": {
    "name": "ipython",
    "version": 2
   },
   "file_extension": ".py",
   "mimetype": "text/x-python",
   "name": "python",
   "nbconvert_exporter": "python",
   "pygments_lexer": "ipython2",
   "version": "2.7.6"
  }
 },
 "nbformat": 4,
 "nbformat_minor": 5
}
